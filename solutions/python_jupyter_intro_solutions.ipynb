{
 "cells": [
  {
   "cell_type": "markdown",
   "metadata": {
    "slideshow": {
     "slide_type": "slide"
    }
   },
   "source": [
    "<img src=\"http://imgur.com/1ZcRyrc.png\" style=\"float: left; margin: 20px; height: 55px\">\n",
    " \n",
    "# Python & Jupyter Notebook Fundamentals Introduction\n",
    " \n",
    "_Authors: B Rhodes (DC)_\n",
    " \n",
    "---"
   ]
  },
  {
   "cell_type": "markdown",
   "metadata": {
    "slideshow": {
     "slide_type": "slide"
    }
   },
   "source": [
    "<a id=\"learning-objectives\"></a>\n",
    "### Learning Objectives\n",
    "*After this lab, you will be able to:*\n",
    "\n",
    "- Define what a Jupyter notebook is and how to use it.\n",
    "- Define and use Python data types.\n",
    "- Define a function and identify common functions in Python.\n",
    "- Define control flow and some common examples in Python."
   ]
  },
  {
   "cell_type": "markdown",
   "metadata": {},
   "source": [
    "## Introduction to Jupyter Notebooks\n",
    "\n",
    "This is a Jupyter Notebook. This will be the main tool used in this class to write your code and communicate your results. It is important to be comfortable and build proficiency with this tool.\n",
    "\n",
    "### Where do Jupyter Notebooks live?\n",
    "When you launched Jupyter you started a **Jupyter Notebook** server available at your localhost at default port 8888. This specific notebook is connected to an iPython kernel capable of executing Python commands.\n",
    "\n",
    "### Why do we use Jupyter Notebooks?\n",
    "Jupyter Notebooks allow us to interactively combine code, text and graphics. For this class all code will be in Python, text is entered as markdown, which the notebook is able to render. We can even include html and latex $$y= \\beta_{2}x^2 + \\beta_{1}x + \\beta_{0}$$ \n",
    "\n",
    "and other rich content streams (gifs, videos, etc.).\n",
    "\n"
   ]
  },
  {
   "cell_type": "markdown",
   "metadata": {},
   "source": [
    "### How do Jupyter Notebooks Work\n",
    "\n",
    "All notebooks are composed of cells. All content in the notebook must be in a cell. There are two types of cells: **Code** and **Markdown** cells.\n",
    "\n",
    "- **Markdown** cells are where all text is formatted.\n",
    "- **Code** cells are where all executable code is written.\n",
    "\n",
    "Jupyter Notebook cells are always in one of two modes: **command** or **edit** mode. When in command mode:\n",
    "* The cell will be outlined in **blue**\n",
    "* There will be no blinking cursor and no where to enter any text\n",
    "* Keys have special meanings (see below)\n",
    "* The small pencil icon will be absent from the top right hand side of the menu bar\n",
    "\n",
    "When in edit mode:\n",
    "* Cells will be outlined in **green**\n",
    "* Cells will have a blinking cursor in it\n",
    "* Typing will result in plain text inside the cell\n",
    "* A small pencil icon will be visible in the top right hand side of the menu bar\n",
    "\n",
    "Switching between command and edit mode:\n",
    "* **For Markdown** cells double click in the cell to switch to edit mode. Double click **here**. \n",
    "* Press **shift+enter** to execute the markdown cell and return to a formatted display.\n",
    "* **For Command** cells, to enter edit mode simply put your cursor inside the cell. And you can enter standard Python code and comments.\n",
    "\n",
    "#### Execute a cell\n",
    "Just like for Markdown cells press **shift+enter** to execute the cell. The code in the cell will be *executed immediately*. Code cells are denoted on the left margin with a `In [1]:` and after you execute it a `Out[1]:` if there is any output. The number in brackets denotes the order of execution of code cells in the notebook. Try it below."
   ]
  },
  {
   "cell_type": "code",
   "execution_count": null,
   "metadata": {
    "ExecuteTime": {
     "end_time": "2020-11-02T02:11:02.549484Z",
     "start_time": "2020-11-02T02:11:02.544312Z"
    }
   },
   "outputs": [],
   "source": [
    "3 + 11"
   ]
  },
  {
   "cell_type": "markdown",
   "metadata": {},
   "source": [
    "Notice that when you use **shift+enter** you advance to the next cell or it creates a new cell. You can use **control+enter** to execute the current cell without advancing to the next cell.\n",
    "\n",
    "Notice that only the last line is output. And if the last line has no output nothing will be displayed. "
   ]
  },
  {
   "cell_type": "code",
   "execution_count": null,
   "metadata": {
    "ExecuteTime": {
     "end_time": "2020-11-02T02:11:04.235474Z",
     "start_time": "2020-11-02T02:11:04.230210Z"
    }
   },
   "outputs": [],
   "source": [
    "3 + 11\n",
    "4 + 2"
   ]
  },
  {
   "cell_type": "code",
   "execution_count": null,
   "metadata": {
    "ExecuteTime": {
     "end_time": "2020-11-02T02:11:05.771484Z",
     "start_time": "2020-11-02T02:11:05.766088Z"
    }
   },
   "outputs": [],
   "source": [
    "x = 3\n",
    "y = 11\n",
    "\n",
    "x + y"
   ]
  },
  {
   "cell_type": "markdown",
   "metadata": {},
   "source": [
    "If we want to output multiple statements we can use the print function for each line we want displayed."
   ]
  },
  {
   "cell_type": "code",
   "execution_count": null,
   "metadata": {
    "ExecuteTime": {
     "end_time": "2020-11-01T23:03:24.591681Z",
     "start_time": "2020-11-01T23:03:24.582783Z"
    }
   },
   "outputs": [],
   "source": [
    "print(3 + 11)\n",
    "print( 4 + 2)"
   ]
  },
  {
   "cell_type": "markdown",
   "metadata": {},
   "source": [
    "#### Working with cells\n",
    "\n",
    "All cells are code cells by default. You can change the type of cell by selecting the cell, in either edit or command mode, and setting its new type using:\n",
    "\n",
    "* the drop down menu at the top of the screen.\n",
    "* the **Cell** menu and selecting the **Cell Type**\n",
    "* Press **esc then M** to change it to a Markdown cell\n",
    "* **esc then Y** to change it to a code cell\n",
    "\n",
    "\n",
    "#### Other Keyboard Shortcuts\n",
    "There are a number of keyboard shortcuts available in Jupyter notebooks. Below are some of the most frequently used.\n",
    "* **Alt(option) + Enter** executes the current code block and inserts a new cell after\n",
    "* **ESC then a** inserts a cell above\n",
    "* **ESC then b** inserts a cell below\n",
    "* **ESC then d + d** deletes a cell\n",
    "\n",
    "Note: On the MAC you can achieve the same results typing only the letters (omit **ESC**).\n"
   ]
  },
  {
   "cell_type": "markdown",
   "metadata": {},
   "source": [
    "## Python Practice\n",
    "\n",
    "Work through the Python examples and exercises below to practice."
   ]
  },
  {
   "cell_type": "markdown",
   "metadata": {},
   "source": [
    "**Question 1**: Given a range of first 10 digits, for each number print the number and the sum of the current number and previous number."
   ]
  },
  {
   "cell_type": "code",
   "execution_count": null,
   "metadata": {
    "ExecuteTime": {
     "end_time": "2020-11-01T23:23:50.800799Z",
     "start_time": "2020-11-01T23:23:50.780140Z"
    },
    "scrolled": false
   },
   "outputs": [],
   "source": [
    "# Answer \n",
    "num = 5\n",
    "previousNum = 0\n",
    "for i in range(num):\n",
    "    sum = previousNum + i\n",
    "    print(\"Current Number\", i, \"Previous Number \", previousNum,\" Sum: \", sum)\n",
    "    previousNum = i\n",
    "\n",
    "print(f\"Printing current and previous number sum in a given range({num})\")"
   ]
  },
  {
   "cell_type": "markdown",
   "metadata": {},
   "source": [
    "**Question 2**: Given a string and an integer number n, remove the first n characters from a string"
   ]
  },
  {
   "cell_type": "code",
   "execution_count": null,
   "metadata": {
    "ExecuteTime": {
     "end_time": "2020-11-01T23:29:18.224966Z",
     "start_time": "2020-11-01T23:29:18.192846Z"
    }
   },
   "outputs": [],
   "source": [
    "# Answer \n",
    "n = 3\n",
    "my_string = \"Go Vote!\"\n",
    "my_string[n:]"
   ]
  },
  {
   "cell_type": "markdown",
   "metadata": {},
   "source": [
    "**Question 3**: Given a list of numbers, return True if first and last number of a list is same\n"
   ]
  },
  {
   "cell_type": "code",
   "execution_count": null,
   "metadata": {
    "ExecuteTime": {
     "end_time": "2020-11-02T02:08:37.757932Z",
     "start_time": "2020-11-02T02:08:37.747857Z"
    }
   },
   "outputs": [],
   "source": [
    "numbers1 = [1, 2, 3, 4, 5 , 4, 3, 2, 1]\n",
    "numbers2 = ['a', 'b', 'c', 'd', 'e', 'f', 'g', 'h', 'i', 'j']\n",
    "\n",
    "#answer\n",
    "num_list = numbers2\n",
    "if num_list[0] == num_list[-1]:\n",
    "    ans = True\n",
    "else:\n",
    "    ans = False\n",
    "    \n",
    "print(f'Answer is {ans}')\n",
    "\n",
    "# Function answer\n",
    "def first_is_last(num_list):\n",
    "    \"\"\"determine if the first element of a list is identical to the last\n",
    "    \n",
    "    Args: num_list - a list\n",
    "    return: a boolean -> True or False\n",
    "    \"\"\"\n",
    "    if num_list[0] == num_list[-1]:\n",
    "        return True\n",
    "    else:\n",
    "        return False\n",
    "\n",
    "assert first_is_last([4, 5, 4]) == True\n",
    "\n",
    "print(f'Answer is {first_is_last(numbers1)}')"
   ]
  },
  {
   "cell_type": "markdown",
   "metadata": {},
   "source": [
    "**Question 4**: How many seconds in a decade? Bonus if you write a function to compute number of seconds in any time period expressed as years. (Ignore leap years)."
   ]
  },
  {
   "cell_type": "code",
   "execution_count": null,
   "metadata": {
    "ExecuteTime": {
     "end_time": "2020-11-02T02:29:28.430792Z",
     "start_time": "2020-11-02T02:29:28.424230Z"
    },
    "scrolled": true
   },
   "outputs": [],
   "source": [
    "# answer - no function\n",
    "period = 1/365\n",
    "\n",
    "seconds = period * 365 * 86400\n",
    "print(f'Number of seconds in {round(period,4)} years is {seconds}')\n",
    "\n",
    "# answer - function\n",
    "def seconds_in_time(period):\n",
    "    \"\"\"Compute the number of seconds in a time period.\n",
    "        \n",
    "        arg: period - time period expressed in years.\n",
    "        \n",
    "        return: seconds - number of seconds in the time period.\n",
    "        \"\"\"\n",
    "    days = period * 365\n",
    "    \n",
    "    # Number of seconds per day = 86400\n",
    "    \n",
    "    return days* 86400\n",
    "\n",
    "assert seconds_in_time(1/365) == 86400\n",
    "\n",
    "decade_seconds = seconds_in_time(10)\n",
    "print(f'Number of seconds in a decade is {decade_seconds}')"
   ]
  },
  {
   "cell_type": "markdown",
   "metadata": {},
   "source": [
    "**Question 5**: Write a function to compute the Fibonacci sequence of size $n$.\n",
    "\n",
    "*The Fibonacci seqence is a sequence of numbers where the next number in the sequence is the sum of the previous two numbers in the sequence. The sequence looks like this: 1, 1, 2, 3, 5, 8, 13, …*"
   ]
  },
  {
   "cell_type": "code",
   "execution_count": null,
   "metadata": {
    "ExecuteTime": {
     "end_time": "2020-11-02T03:01:56.639375Z",
     "start_time": "2020-11-02T03:01:56.631730Z"
    }
   },
   "outputs": [],
   "source": [
    "def fibonacci(n):\n",
    "    \"\"\"compute fibonacci sequence of size n\"\"\"\n",
    "    x, y = 0, 1\n",
    "    fib = []\n",
    "    for i in range(n):\n",
    "        fib.append(y)\n",
    "        # update sequence\n",
    "        x, y = y, x+y\n",
    "    \n",
    "    return fib\n",
    "\n",
    "fibonacci(8)"
   ]
  },
  {
   "cell_type": "code",
   "execution_count": null,
   "metadata": {
    "ExecuteTime": {
     "end_time": "2020-11-02T03:00:38.757012Z",
     "start_time": "2020-11-02T03:00:38.748410Z"
    }
   },
   "outputs": [],
   "source": [
    "def gen_fib(n):\n",
    "    \"\"\"compute fibonacci sequence of size n- alternative approach\"\"\"\n",
    "    count = n\n",
    "    i = 1\n",
    "    if count == 0:\n",
    "        fib = []\n",
    "    elif count == 1:\n",
    "        fib = [1]\n",
    "    elif count == 2:\n",
    "        fib = [1,1]\n",
    "    elif count > 2:\n",
    "        fib = [1,1]\n",
    "        while i < (count - 1):\n",
    "            fib.append(fib[i] + fib[i-1])\n",
    "            i += 1\n",
    "\n",
    "    return fib\n",
    "gen_fib(8)"
   ]
  },
  {
   "cell_type": "markdown",
   "metadata": {},
   "source": [
    "#### FizzBuzz\n",
    "Write a program that prints all of the numbers from 1 to 100 using the following rules:\n",
    "- For multiples of 3, instead of the number, print \"Fizz;\" \n",
    "- For multiples of 5, print \"Buzz.\" \n",
    "- For numbers that are multiples of both 3 and 5, print \"FizzBuzz.\"\n",
    "\n",
    "Bonus: write a function that prints the numbers from 1 to $n$ and for arbitrary multiples, $m$ & $p$."
   ]
  },
  {
   "cell_type": "code",
   "execution_count": null,
   "metadata": {
    "ExecuteTime": {
     "end_time": "2020-11-02T05:40:20.445556Z",
     "start_time": "2020-11-02T05:40:20.437822Z"
    }
   },
   "outputs": [],
   "source": [
    "# Answer\n",
    "\n",
    "def fizzbuzz(n,m,p):\n",
    "    \"\"\"Print the n Fizz-Buzz numbers for mulitples m, p\n",
    "    \n",
    "    Args:\n",
    "        n - integer defining the range of numbers to print.\n",
    "        m - integer defining the multiple to be replaced w/ fizz\n",
    "        p - integer defining the multiple to be replaced w/ buzz\n",
    "        \n",
    "    Return: no return value\n",
    "    \"\"\"\n",
    "    m1 = min(m,p)\n",
    "    m2 = max(m,p)\n",
    "    \n",
    "    for x in range(n+1):\n",
    "        if (x % m1 == 0) and (x % m2 == 0):\n",
    "            #divisible by both\n",
    "            print('FizzBuzz')\n",
    "        elif x % m2 == 0:\n",
    "            #only divisible by p\n",
    "            print('Buzz')\n",
    "        elif x % m1 == 0:\n",
    "            #only divisible by m\n",
    "            print('Fizz')\n",
    "        else:\n",
    "            print(x)\n",
    "            \n",
    "fizzbuzz(15,3,5)"
   ]
  },
  {
   "cell_type": "markdown",
   "metadata": {},
   "source": [
    "## Python Review\n",
    "Everything below here is for review."
   ]
  },
  {
   "cell_type": "code",
   "execution_count": null,
   "metadata": {
    "ExecuteTime": {
     "end_time": "2020-11-01T23:13:15.623051Z",
     "start_time": "2020-11-01T23:13:15.596205Z"
    }
   },
   "outputs": [],
   "source": [
    "# Assigning a float:\n",
    "x = 1.0\n",
    "type(x)"
   ]
  },
  {
   "cell_type": "code",
   "execution_count": null,
   "metadata": {
    "ExecuteTime": {
     "end_time": "2020-11-01T22:27:25.599164Z",
     "start_time": "2020-11-01T22:27:25.594358Z"
    }
   },
   "outputs": [],
   "source": [
    "# Assigning an int:\n",
    "y = 1\n",
    "type(y)"
   ]
  },
  {
   "cell_type": "code",
   "execution_count": null,
   "metadata": {
    "ExecuteTime": {
     "end_time": "2020-11-01T22:27:25.607582Z",
     "start_time": "2020-11-01T22:27:25.601955Z"
    }
   },
   "outputs": [],
   "source": [
    "# Assigning a string:\n",
    "z = '1'\n",
    "type(z)"
   ]
  },
  {
   "cell_type": "markdown",
   "metadata": {},
   "source": [
    "**Remember that, when we're assigning variables, we are not stating that \"x equals 1,\" we are stating that \"x has been assigned the value of 1.\"**"
   ]
  },
  {
   "cell_type": "markdown",
   "metadata": {},
   "source": [
    "### Operators\n",
    "\n",
    "Operators can be used in a mathematical sense to calculate (or create) the sum, difference, product, or quotient of values or variables.\n",
    "\n",
    "Note that `print()` below will print out the values of whatever is inside of the parentheses."
   ]
  },
  {
   "cell_type": "code",
   "execution_count": null,
   "metadata": {
    "ExecuteTime": {
     "end_time": "2020-11-01T22:27:25.616000Z",
     "start_time": "2020-11-01T22:27:25.610271Z"
    }
   },
   "outputs": [],
   "source": [
    "# Addition:\n",
    "print(1 + 2)\n",
    "# Subtraction:\n",
    "print(1 - 2)\n",
    "# Multiplication:\n",
    "print(1 * 2)\n",
    "# Division:\n",
    "print(1 / 2)"
   ]
  },
  {
   "cell_type": "markdown",
   "metadata": {},
   "source": [
    " There is also `//` division, whose output will be the rounded-down whole number."
   ]
  },
  {
   "cell_type": "code",
   "execution_count": null,
   "metadata": {
    "ExecuteTime": {
     "end_time": "2020-11-01T22:27:25.621674Z",
     "start_time": "2020-11-01T22:27:25.618193Z"
    }
   },
   "outputs": [],
   "source": [
    "# Division of float numbers:\n",
    "print(3.0 // 2)\n",
    "print(-3.0 // 2)"
   ]
  },
  {
   "cell_type": "code",
   "execution_count": null,
   "metadata": {
    "ExecuteTime": {
     "end_time": "2020-11-01T22:27:25.628202Z",
     "start_time": "2020-11-01T22:27:25.623708Z"
    }
   },
   "outputs": [],
   "source": [
    "# Exponent power operator:\n",
    "2 ** 2"
   ]
  },
  {
   "cell_type": "code",
   "execution_count": null,
   "metadata": {
    "ExecuteTime": {
     "end_time": "2020-11-01T22:27:25.637977Z",
     "start_time": "2020-11-01T22:27:25.632458Z"
    }
   },
   "outputs": [],
   "source": [
    "# The modulo operator can be used to get the remainder — what's left over after the term has been cleanly divided:\n",
    "5%2."
   ]
  },
  {
   "cell_type": "markdown",
   "metadata": {},
   "source": [
    "#### Operator precedence\n",
    "Operations occur with the same precedence you learned in grade school (PEMDAS): \n",
    "\n",
    "> Parentheses Exponents, Multiplication, Division, Addition, and Subtraction."
   ]
  },
  {
   "cell_type": "code",
   "execution_count": null,
   "metadata": {
    "ExecuteTime": {
     "end_time": "2020-11-02T02:48:16.360341Z",
     "start_time": "2020-11-02T02:48:16.354784Z"
    }
   },
   "outputs": [],
   "source": [
    "(8 + (17 // 7)) ** 2 - 10"
   ]
  },
  {
   "cell_type": "markdown",
   "metadata": {},
   "source": [
    "The above expression has two sets of parentheses. The expression within the innermost set of parentheses is evaluated first. The execution order takes place like this.\n",
    "\n",
    "```\n",
    "(8 + 2) ** 2 - 10\n",
    "10 ** 2 - 10\n",
    "100 - 10\n",
    "90\n",
    "```"
   ]
  },
  {
   "cell_type": "markdown",
   "metadata": {},
   "source": [
    "### Booleans and Boolean Evaluation Operators\n",
    "\n",
    "**In your own words, define a boolean.**"
   ]
  },
  {
   "cell_type": "markdown",
   "metadata": {
    "slideshow": {
     "slide_type": "notes"
    }
   },
   "source": [
    "Booleans exist as either true or false and are generally used as a means of evaluation."
   ]
  },
  {
   "cell_type": "markdown",
   "metadata": {},
   "source": [
    "#### Using Booleans\n",
    "\n",
    "Booleans are frequently used to filter data or conditions. Sometimes, we may want all countries with populations greater than 4,000,000 or all people named Bob. Both of these result in a `True` or `False` condition that split our data into the groups we want.\n",
    "\n",
    "In Python, there are several built-in commands for deciding how to filter results:\n",
    "\n",
    "- `and`: Are both A and B true?\n",
    "- `not`: Is A the same as B?\n",
    "- `or`: Is A or B true?"
   ]
  },
  {
   "cell_type": "code",
   "execution_count": null,
   "metadata": {
    "ExecuteTime": {
     "end_time": "2020-11-02T05:39:18.602526Z",
     "start_time": "2020-11-02T05:39:18.595745Z"
    }
   },
   "outputs": [],
   "source": [
    "True and False"
   ]
  },
  {
   "cell_type": "code",
   "execution_count": null,
   "metadata": {
    "ExecuteTime": {
     "end_time": "2020-11-02T05:39:19.769312Z",
     "start_time": "2020-11-02T05:39:19.761354Z"
    }
   },
   "outputs": [],
   "source": [
    "not False"
   ]
  },
  {
   "cell_type": "code",
   "execution_count": null,
   "metadata": {
    "ExecuteTime": {
     "end_time": "2020-11-02T05:39:20.456538Z",
     "start_time": "2020-11-02T05:39:20.451372Z"
    }
   },
   "outputs": [],
   "source": [
    "True or False"
   ]
  },
  {
   "cell_type": "markdown",
   "metadata": {},
   "source": [
    "**Comparisons**\n",
    "\n",
    "- Less than: `<`\n",
    "- Greater than: `>`\n",
    "- Less than or equal to: `<=`\n",
    "- Greater than or equal to: `<=`\n",
    "- Equals: `==`\n",
    "- Does not equal: `!=`"
   ]
  },
  {
   "cell_type": "code",
   "execution_count": null,
   "metadata": {
    "ExecuteTime": {
     "end_time": "2020-11-01T22:27:25.669081Z",
     "start_time": "2020-11-01T22:27:25.664199Z"
    }
   },
   "outputs": [],
   "source": [
    "2 > 1, 2 < 1, 2 > 2, 2 < 2, 2 >= 2, 2 <= 2"
   ]
  },
  {
   "cell_type": "code",
   "execution_count": null,
   "metadata": {
    "ExecuteTime": {
     "end_time": "2020-11-01T22:27:25.677856Z",
     "start_time": "2020-11-01T22:27:25.672229Z"
    }
   },
   "outputs": [],
   "source": [
    "# Equality:\n",
    "[1,2] == [1,2], [1,2] != [2,1]"
   ]
  },
  {
   "cell_type": "code",
   "execution_count": null,
   "metadata": {
    "ExecuteTime": {
     "end_time": "2020-11-01T22:27:25.685328Z",
     "start_time": "2020-11-01T22:27:25.680695Z"
    }
   },
   "outputs": [],
   "source": [
    "[1,2] == [1,2] and [2,2] == [2,2]"
   ]
  },
  {
   "cell_type": "markdown",
   "metadata": {},
   "source": [
    "#### Now You Try!\n",
    "\n",
    "With a partner, create three comparisons using `!=`, `>=`, and `<`."
   ]
  },
  {
   "cell_type": "markdown",
   "metadata": {
    "slideshow": {
     "slide_type": "slide"
    }
   },
   "source": [
    "### Strings\n",
    "\n",
    "**What are strings? How would we use them? Can you think of any examples of strings?**"
   ]
  },
  {
   "cell_type": "markdown",
   "metadata": {
    "slideshow": {
     "slide_type": "notes"
    }
   },
   "source": [
    "\n",
    "Strings are essentially any character combination in between quotes. They are most often used as a way of storing text. Strings are used frequently, because most of the data that humans create are text-based, such as restaurant reviews or emails."
   ]
  },
  {
   "cell_type": "code",
   "execution_count": null,
   "metadata": {
    "ExecuteTime": {
     "end_time": "2020-11-01T22:27:25.700285Z",
     "start_time": "2020-11-01T22:27:25.694301Z"
    }
   },
   "outputs": [],
   "source": [
    "s = \"Hello world\"\n",
    "type(s)"
   ]
  },
  {
   "cell_type": "markdown",
   "metadata": {
    "slideshow": {
     "slide_type": "slide"
    }
   },
   "source": [
    "Strings have a lot of associated methods and attributes that allow us to better understand and manipulate them.\n",
    "\n",
    "**In your own words, why would we want to manipulate or change strings?**"
   ]
  },
  {
   "cell_type": "markdown",
   "metadata": {
    "slideshow": {
     "slide_type": "notes"
    }
   },
   "source": [
    "- Fixing misspelled words.\n",
    "- Changing casing (upper, lower).\n",
    "- Looking for specific words."
   ]
  },
  {
   "cell_type": "code",
   "execution_count": null,
   "metadata": {
    "ExecuteTime": {
     "end_time": "2020-11-01T22:27:25.719585Z",
     "start_time": "2020-11-01T22:27:25.714298Z"
    }
   },
   "outputs": [],
   "source": [
    "# Finding the length of the string:\n",
    "len(s)"
   ]
  },
  {
   "cell_type": "code",
   "execution_count": null,
   "metadata": {
    "ExecuteTime": {
     "end_time": "2020-11-01T22:27:25.732001Z",
     "start_time": "2020-11-01T22:27:25.725068Z"
    }
   },
   "outputs": [],
   "source": [
    "# Replacing an element of a string:\n",
    "s2 = s.replace(\"world\", \"test\")\n",
    "print(s2)"
   ]
  },
  {
   "cell_type": "markdown",
   "metadata": {
    "slideshow": {
     "slide_type": "slide"
    }
   },
   "source": [
    "### String Indexing\n",
    "\n",
    "In some cases, we may want a part of the string (like the first character for alphabetizing or categorizing). Indexing helps us do that.\n",
    "\n",
    "We can extract characters at specific index locations in a string using indexing."
   ]
  },
  {
   "cell_type": "code",
   "execution_count": null,
   "metadata": {
    "ExecuteTime": {
     "end_time": "2020-11-01T22:27:25.745872Z",
     "start_time": "2020-11-01T22:27:25.739837Z"
    }
   },
   "outputs": [],
   "source": [
    "# Indexing the first (index 0) character in the string:\n",
    "s[0]"
   ]
  },
  {
   "cell_type": "markdown",
   "metadata": {
    "slideshow": {
     "slide_type": "slide"
    }
   },
   "source": [
    "The number you enter after the variable name in brackets (the `[0]`) is called the index (its plural is indices).\n",
    "\n",
    "_Counting in Python and many other programming languages begins at zero, as opposed to one. This is called zero-based indexing._"
   ]
  },
  {
   "cell_type": "code",
   "execution_count": null,
   "metadata": {
    "ExecuteTime": {
     "end_time": "2020-11-01T22:27:25.760022Z",
     "start_time": "2020-11-01T22:27:25.752010Z"
    }
   },
   "outputs": [],
   "source": [
    "# This is called \"slicing.\" We start at the left index \n",
    "#   and go up to but not include the right index.\n",
    "\n",
    "# Objects at indexes 0, 1, and 2:\n",
    "s[0:3]"
   ]
  },
  {
   "cell_type": "markdown",
   "metadata": {
    "slideshow": {
     "slide_type": "slide"
    }
   },
   "source": [
    "Most ranges, or functions with ranges, have upper ends that are not inclusive. So, a range of `[0:5]` starts at `0` and stops before `5`.\n",
    "\n",
    "A good mental trick is to look at something like `[5:25]` and say out loud \"Starting at five and going up to (but not including) 25.\""
   ]
  },
  {
   "cell_type": "code",
   "execution_count": null,
   "metadata": {
    "ExecuteTime": {
     "end_time": "2020-11-01T22:27:25.770784Z",
     "start_time": "2020-11-01T22:27:25.765458Z"
    }
   },
   "outputs": [],
   "source": [
    "# From index 6 up to the end of the string:\n",
    "s[6:]"
   ]
  },
  {
   "cell_type": "code",
   "execution_count": null,
   "metadata": {
    "ExecuteTime": {
     "end_time": "2020-11-01T22:27:25.782417Z",
     "start_time": "2020-11-01T22:27:25.775414Z"
    }
   },
   "outputs": [],
   "source": [
    "# No start or end specified:\n",
    "s[:]"
   ]
  },
  {
   "cell_type": "code",
   "execution_count": null,
   "metadata": {
    "ExecuteTime": {
     "end_time": "2020-11-01T22:27:25.803727Z",
     "start_time": "2020-11-01T22:27:25.797904Z"
    }
   },
   "outputs": [],
   "source": [
    "# Can we index from the right side?\n",
    "s[-1]"
   ]
  },
  {
   "cell_type": "markdown",
   "metadata": {
    "slideshow": {
     "slide_type": "slide"
    }
   },
   "source": [
    "In addition to specifying a range, you can include a step size or character skip rate. This might be helpful if you want every other letter, for example. \n",
    "\n",
    "These indexing methods can also be used on lists, where asking for every other number might be a good use case."
   ]
  },
  {
   "cell_type": "code",
   "execution_count": null,
   "metadata": {
    "ExecuteTime": {
     "end_time": "2020-11-01T22:27:25.818957Z",
     "start_time": "2020-11-01T22:27:25.808364Z"
    }
   },
   "outputs": [],
   "source": [
    "# Every second character starting at 0 and ending at 10:\n",
    "s[0:10:2]"
   ]
  },
  {
   "cell_type": "code",
   "execution_count": null,
   "metadata": {
    "ExecuteTime": {
     "end_time": "2020-11-01T22:27:25.835883Z",
     "start_time": "2020-11-01T22:27:25.825776Z"
    }
   },
   "outputs": [],
   "source": [
    "# Define a step size of 2; i.e., every other character:\n",
    "s[::2]"
   ]
  },
  {
   "cell_type": "code",
   "execution_count": null,
   "metadata": {
    "ExecuteTime": {
     "end_time": "2020-11-01T22:27:25.857339Z",
     "start_time": "2020-11-01T22:27:25.849265Z"
    }
   },
   "outputs": [],
   "source": [
    "# The same, but for a list of numbers:\n",
    "[0, 1, 2, 3, 4, 5, 6][::2]"
   ]
  },
  {
   "cell_type": "markdown",
   "metadata": {
    "slideshow": {
     "slide_type": "slide"
    }
   },
   "source": [
    "### Concatenating\n",
    "\n",
    "**In your own words, what is concatenating? When might you use it?**\n",
    "\n",
    "To add two strings together, type the first string, a `+` sign, and then the second string."
   ]
  },
  {
   "cell_type": "code",
   "execution_count": null,
   "metadata": {
    "ExecuteTime": {
     "end_time": "2020-11-01T22:27:25.869982Z",
     "start_time": "2020-11-01T22:27:25.863389Z"
    }
   },
   "outputs": [],
   "source": [
    "x = 'Hello'\n",
    "y = 'world'\n",
    "\n",
    "x + y"
   ]
  },
  {
   "cell_type": "code",
   "execution_count": null,
   "metadata": {
    "ExecuteTime": {
     "end_time": "2020-11-01T22:27:25.877237Z",
     "start_time": "2020-11-01T22:27:25.872648Z"
    }
   },
   "outputs": [],
   "source": [
    "# Conversion from int to str is required!\n",
    "\n",
    "dice_roll = 3\n",
    "\n",
    "print('You rolled a ' + str(dice_roll) + '.')  "
   ]
  },
  {
   "cell_type": "markdown",
   "metadata": {},
   "source": [
    "#### Now You Try!\n",
    "\n",
    "Create your own string of at least 12 characters or more and:\n",
    "\n",
    "1) Test to make sure that it is at least 12 characters long. <br>\n",
    "2) Print all the characters between the 5th and 10th characters. <br>\n",
    "3) Use concatenation to add another string to it. <br>"
   ]
  },
  {
   "cell_type": "markdown",
   "metadata": {
    "slideshow": {
     "slide_type": "slide"
    }
   },
   "source": [
    "### Lists\n",
    "\n",
    "**What are some examples of lists? What do you remember from before?**\n",
    "\n",
    "Lists can be composed of ints, floats, strings, or other lists, as well as other data types we haven't covered yet."
   ]
  },
  {
   "cell_type": "code",
   "execution_count": null,
   "metadata": {
    "ExecuteTime": {
     "end_time": "2020-11-01T22:27:25.885125Z",
     "start_time": "2020-11-01T22:27:25.880152Z"
    }
   },
   "outputs": [],
   "source": [
    "l = [1, 2, 3, 4]\n",
    "\n",
    "print(type(l))\n",
    "print(l)"
   ]
  },
  {
   "cell_type": "code",
   "execution_count": null,
   "metadata": {
    "ExecuteTime": {
     "end_time": "2020-11-01T22:27:25.892468Z",
     "start_time": "2020-11-01T22:27:25.888811Z"
    }
   },
   "outputs": [],
   "source": [
    "# The a variable's contents can be reassigned to another variable:\n",
    "a = l"
   ]
  },
  {
   "cell_type": "code",
   "execution_count": null,
   "metadata": {
    "ExecuteTime": {
     "end_time": "2020-11-01T22:27:25.900337Z",
     "start_time": "2020-11-01T22:27:25.896041Z"
    }
   },
   "outputs": [],
   "source": [
    "print(a)"
   ]
  },
  {
   "cell_type": "code",
   "execution_count": null,
   "metadata": {
    "ExecuteTime": {
     "end_time": "2020-11-01T22:27:25.912372Z",
     "start_time": "2020-11-01T22:27:25.905632Z"
    }
   },
   "outputs": [],
   "source": [
    "# List of strings:\n",
    "names = ['Carol', 'Anne', 'Jessica']\n",
    "print(names)"
   ]
  },
  {
   "cell_type": "markdown",
   "metadata": {
    "slideshow": {
     "slide_type": "slide"
    }
   },
   "source": [
    "### Methods\n",
    "\n",
    "Many types have what are known as \"methods:\" built-in functionality that allows them to do certain things. We've already seen a couple, such as the `.replace()` method, which lets you replace words in strings. \n",
    "\n",
    "Lists also have several methods that allow us to alter them, such as the `.append()` method, which allows us to add another element to the end of a list."
   ]
  },
  {
   "cell_type": "code",
   "execution_count": null,
   "metadata": {
    "ExecuteTime": {
     "end_time": "2020-11-01T22:27:25.922090Z",
     "start_time": "2020-11-01T22:27:25.916353Z"
    }
   },
   "outputs": [],
   "source": [
    "names.append('Michelle')\n",
    "names"
   ]
  },
  {
   "cell_type": "markdown",
   "metadata": {},
   "source": [
    "Lists can indexed the same way strings — this allows us to target a specific value or range of values in a list without having to create a new one."
   ]
  },
  {
   "cell_type": "code",
   "execution_count": null,
   "metadata": {
    "ExecuteTime": {
     "end_time": "2020-11-01T22:27:25.930705Z",
     "start_time": "2020-11-01T22:27:25.925491Z"
    }
   },
   "outputs": [],
   "source": [
    "print(names[1:3])\n",
    "print(names[::2])   # Increments the index by 2 each time (skips alternate elements)."
   ]
  },
  {
   "cell_type": "code",
   "execution_count": null,
   "metadata": {
    "ExecuteTime": {
     "end_time": "2020-11-01T22:27:25.942169Z",
     "start_time": "2020-11-01T22:27:25.936765Z"
    }
   },
   "outputs": [],
   "source": [
    "# We can slice a value in a list as well:\n",
    "names[1][1:]"
   ]
  },
  {
   "cell_type": "markdown",
   "metadata": {
    "slideshow": {
     "slide_type": "slide"
    }
   },
   "source": [
    "Note that we always read indexing from left to right. In the example above, the interpreter looks up names and gets the first element, which is the string `\"Anne\"`. Then, the slice (`[1:]`) adds the first index of that string to the end of the original string, evaluating to `\"nne\"`.\n",
    "\n",
    "Interestingly, the following works in the same way. Instead of having to look up the value of names, the list is directly specified (just read the line from left to right!)."
   ]
  },
  {
   "cell_type": "code",
   "execution_count": null,
   "metadata": {
    "ExecuteTime": {
     "end_time": "2020-11-01T22:27:25.953849Z",
     "start_time": "2020-11-01T22:27:25.946589Z"
    }
   },
   "outputs": [],
   "source": [
    "['Carol', 'Anne', 'Jessica', 'Michelle'][1][1:]"
   ]
  },
  {
   "cell_type": "code",
   "execution_count": null,
   "metadata": {
    "ExecuteTime": {
     "end_time": "2020-11-01T22:27:25.964707Z",
     "start_time": "2020-11-01T22:27:25.958413Z"
    }
   },
   "outputs": [],
   "source": [
    "# Lists don't have to be the same type:\n",
    "l = [1, 'a', 1.0, 1-1j]\n",
    "print(l)"
   ]
  },
  {
   "cell_type": "code",
   "execution_count": null,
   "metadata": {
    "ExecuteTime": {
     "end_time": "2020-11-01T22:27:25.975409Z",
     "start_time": "2020-11-01T22:27:25.967405Z"
    }
   },
   "outputs": [],
   "source": [
    "# We can create a list of values in a range using the range() function:\n",
    "start = 10\n",
    "stop = 30\n",
    "step = 2\n",
    "print(type(range(start, stop, step)))\n",
    "\n",
    "# range() produces a \"generator,\" which is beyond the scope of this introduction!\n",
    "# It is often convenient to have the generator \n",
    "#    generate all of its values by converting it to a list:\n",
    "list(range(start, stop, step))"
   ]
  },
  {
   "cell_type": "markdown",
   "metadata": {
    "slideshow": {
     "slide_type": "slide"
    }
   },
   "source": [
    "Use the `.insert()` method to add values at specific indices."
   ]
  },
  {
   "cell_type": "code",
   "execution_count": null,
   "metadata": {
    "ExecuteTime": {
     "end_time": "2020-11-01T22:27:25.983268Z",
     "start_time": "2020-11-01T22:27:25.978596Z"
    }
   },
   "outputs": [],
   "source": [
    "names.insert(2, 'Ellen')\n",
    "names"
   ]
  },
  {
   "cell_type": "markdown",
   "metadata": {
    "slideshow": {
     "slide_type": "slide"
    }
   },
   "source": [
    "The `.remove()` method can be used to remove specific values if they appear in a list."
   ]
  },
  {
   "cell_type": "code",
   "execution_count": null,
   "metadata": {
    "ExecuteTime": {
     "end_time": "2020-11-01T22:27:25.990518Z",
     "start_time": "2020-11-01T22:27:25.985583Z"
    }
   },
   "outputs": [],
   "source": [
    "names.append('Jeremy')\n",
    "print(names)\n",
    "names.remove('Jeremy')\n",
    "print(names)"
   ]
  },
  {
   "cell_type": "markdown",
   "metadata": {},
   "source": [
    "#### Now You Try!\n",
    "\n",
    "Create a list of five elements and do the following:   \n",
    "1) Print the last three elements. <br>\n",
    "2) Insert two new elements at index 2 and append one element to the end. <br>\n",
    "3) Remove one element of your choice. <br>\n",
    "4) Print every other element in your list. <br>"
   ]
  },
  {
   "cell_type": "markdown",
   "metadata": {
    "slideshow": {
     "slide_type": "slide"
    }
   },
   "source": [
    "## Tuples\n",
    "\n",
    "Tuples are similar to lists in that they store a sequence of various separate values. However, tuples are not mutable in that, once they are created, their values cannot be changed.\n",
    "\n",
    "**In your own words, why would creating something that cannot be changed later be helpful?**"
   ]
  },
  {
   "cell_type": "code",
   "execution_count": null,
   "metadata": {
    "ExecuteTime": {
     "end_time": "2020-11-01T22:27:26.008467Z",
     "start_time": "2020-11-01T22:27:26.000701Z"
    }
   },
   "outputs": [],
   "source": [
    "point = (10, 20)\n",
    "print(point)\n",
    "print(type(point))"
   ]
  },
  {
   "cell_type": "code",
   "execution_count": null,
   "metadata": {
    "ExecuteTime": {
     "end_time": "2020-11-01T22:27:26.029493Z",
     "start_time": "2020-11-01T22:27:26.016585Z"
    }
   },
   "outputs": [],
   "source": [
    "# They can be sliced, just like lists and strings:\n",
    "point[0]"
   ]
  },
  {
   "cell_type": "markdown",
   "metadata": {
    "slideshow": {
     "slide_type": "slide"
    }
   },
   "source": [
    "## Dictionaries\n",
    "\n",
    "Dictionaries are a non-ordered Python data type. Instead of using an ordered index to access data stored in a dictionary, we use a system of key-value pairs.\n",
    "\n",
    "**In your own words, why would we use this when we could just use a list?**\n",
    "\n",
    "- A key is similar to a variable name.\n",
    "- A value is similar to the value assigned to the variable.\n",
    "- Curly braces (`{ }`) enclose dictionaries. The first input in a dictionary pair is the \"key.\" The second input in a dictionary pair is the \"value.\" Remember to make `key:value` pairs!\n",
    "\n",
    "The general format looks like this:"
   ]
  },
  {
   "cell_type": "code",
   "execution_count": null,
   "metadata": {
    "ExecuteTime": {
     "end_time": "2020-11-01T22:27:26.041178Z",
     "start_time": "2020-11-01T22:27:26.034287Z"
    }
   },
   "outputs": [],
   "source": [
    "params = {'key1' : 1.0,\n",
    "          'key2' : 2.0,\n",
    "          'key3' : 3.0,}\n",
    "\n",
    "print(type(params))\n",
    "print(params)"
   ]
  },
  {
   "cell_type": "markdown",
   "metadata": {},
   "source": [
    "The keys stay the same, but the values are changeable. You can also only have one occurrence of a key in a dictionary, but you can have all of the values be the same."
   ]
  },
  {
   "cell_type": "code",
   "execution_count": null,
   "metadata": {
    "ExecuteTime": {
     "end_time": "2020-11-01T22:27:26.056172Z",
     "start_time": "2020-11-01T22:27:26.048022Z"
    }
   },
   "outputs": [],
   "source": [
    "# Value for parameter2 in the params dictionary:\n",
    "params['key2']"
   ]
  },
  {
   "cell_type": "code",
   "execution_count": null,
   "metadata": {
    "ExecuteTime": {
     "end_time": "2020-11-01T22:27:26.065669Z",
     "start_time": "2020-11-01T22:27:26.061049Z"
    }
   },
   "outputs": [],
   "source": [
    "# Adding a new dictionary entry:\n",
    "params['key4'] = 'D'"
   ]
  },
  {
   "cell_type": "code",
   "execution_count": null,
   "metadata": {
    "ExecuteTime": {
     "end_time": "2020-11-01T22:27:26.074694Z",
     "start_time": "2020-11-01T22:27:26.069995Z"
    }
   },
   "outputs": [],
   "source": [
    "print(params)"
   ]
  },
  {
   "cell_type": "code",
   "execution_count": null,
   "metadata": {
    "ExecuteTime": {
     "end_time": "2020-11-01T22:27:26.083025Z",
     "start_time": "2020-11-01T22:27:26.078800Z"
    }
   },
   "outputs": [],
   "source": [
    "# Reassigning the value of a key-value pair in the dictionary:\n",
    "params['key1'] = 'A'\n",
    "params['key2'] = 'B'"
   ]
  },
  {
   "cell_type": "code",
   "execution_count": null,
   "metadata": {
    "ExecuteTime": {
     "end_time": "2020-11-01T22:27:26.094556Z",
     "start_time": "2020-11-01T22:27:26.087230Z"
    }
   },
   "outputs": [],
   "source": [
    "print('Key 1 = ' + str(params['key1']))\n",
    "print('Key 2 = ' + str(params['key2']))\n",
    "print('Key 3 = ' + str(params['key3']))\n",
    "print('Key 4 = ' + str(params['key4']))"
   ]
  },
  {
   "cell_type": "code",
   "execution_count": null,
   "metadata": {
    "ExecuteTime": {
     "end_time": "2020-11-01T22:27:26.105641Z",
     "start_time": "2020-11-01T22:27:26.098558Z"
    }
   },
   "outputs": [],
   "source": [
    "# Dictionaries also have methods.\n",
    "\n",
    "# Convert a dictionary to a list of tuples (key-value pairs).\n",
    "# This is later used to conveniently loop through a dictionary:\n",
    "list(params.items())"
   ]
  },
  {
   "cell_type": "markdown",
   "metadata": {
    "slideshow": {
     "slide_type": "slide"
    }
   },
   "source": [
    "<a id=\"types-quiz\"></a>\n",
    "## Quiz: Types\n",
    "\n",
    "---\n",
    "\n",
    "_Identify the variable types of the following five items:_\n",
    "\n",
    "- `1`\n",
    "- `-1.0`\n",
    "- `$1000000`\n",
    "- `'10'`\n",
    "- `('twenty-four', 24)`\n",
    "\n",
    "_Create a list of all numbers between `1` and `100`, inclusive, using the `range()` function discussed above. Can you slice the list so that we see every fifth number, starting at `4` and ending at `82`?_"
   ]
  },
  {
   "cell_type": "markdown",
   "metadata": {
    "slideshow": {
     "slide_type": "slide"
    }
   },
   "source": [
    "<a id=\"functions-def\"></a>\n",
    "## Common Python Functions and Control Flow\n",
    "\n",
    "---\n",
    "\n",
    "**Instructor Note:** This is a basic introduction to control flows and functions. Depending on how well prepared your students are, you can consider introducing `while`, keyword arguments, or some more advanced function generation.\n",
    "\n",
    "In this section, we're going to tackle some common design patterns in Python. The first is the concept of control flow — this is how our programs will return different results based on specific input. Second, we'll cover basic functions — these let us create snippets of code that we can call later in a script, which creates code that's easier to read and maintain. Remember, we're going to be reading code much more often than writing it!"
   ]
  },
  {
   "cell_type": "markdown",
   "metadata": {
    "slideshow": {
     "slide_type": "slide"
    }
   },
   "source": [
    "## `if… else` Statements\n",
    "\n",
    "In Python, indentation matters! This is especially true when we look at the control structures in this lesson. In each case, a block of indented code is only run some of the time. There will always be a condition in the line preceding the indented block that determines whether the indented code is run or skipped.\n",
    "\n",
    "### `if` Statement\n",
    "The simplest example of a control structure is the `if` statement. We start with `if`, followed by something that can evaluate to `True` or `False` (such as any of the comparison operators we discussed earlier)."
   ]
  },
  {
   "cell_type": "code",
   "execution_count": null,
   "metadata": {
    "ExecuteTime": {
     "end_time": "2020-11-01T22:27:26.116867Z",
     "start_time": "2020-11-01T22:27:26.109038Z"
    }
   },
   "outputs": [],
   "source": [
    "if 1 == 1:\n",
    "    print('The integer 1 is equal to the integer 1.')\n",
    "    print('Is the next indented line run, too?')"
   ]
  },
  {
   "cell_type": "code",
   "execution_count": null,
   "metadata": {
    "ExecuteTime": {
     "end_time": "2020-11-01T22:27:26.129611Z",
     "start_time": "2020-11-01T22:27:26.124664Z"
    }
   },
   "outputs": [],
   "source": [
    "if 'one' == 'two':\n",
    "    print(\"The string 'one' is equal to the string 'two'.\")\n",
    "\n",
    "print('---')\n",
    "print('These two lines are not indented, so they are always run next.')"
   ]
  },
  {
   "cell_type": "markdown",
   "metadata": {
    "slideshow": {
     "slide_type": "slide"
    }
   },
   "source": [
    "Notice that, in Python, the line before every indented block must end with a colon (`:`). In fact, it turns out that the `if` statement has a very specific syntax:\n",
    "\n",
    "```\n",
    "if <expression>:\n",
    "    <one or more indented lines>\n",
    "```\n",
    "\n",
    "When the `if` statement is run, the expression is evaluated to `True` or `False` by applying the built-in `bool()` function. If the expression evaluates to `True`, the code block is run; otherwise, it is skipped."
   ]
  },
  {
   "cell_type": "markdown",
   "metadata": {},
   "source": [
    "#### Now You Try!\n",
    "\n",
    "Create your own string called `test_string`, then fill in the blanks here to create an `if... else` statement for whether or not the first character in `test_string` is a lowercase `a`."
   ]
  },
  {
   "cell_type": "code",
   "execution_count": null,
   "metadata": {
    "ExecuteTime": {
     "end_time": "2020-11-01T22:27:26.139917Z",
     "start_time": "2020-11-01T22:27:26.134746Z"
    }
   },
   "outputs": [],
   "source": [
    "test_string = '' # Fill in with your choice of string.\n",
    "\n",
    "if test_string: # Change this section to check if the first character in test_string is a lowercase a.\n",
    "    print('Begins with a')\n",
    "else:\n",
    "    print('Does not begin with a')"
   ]
  },
  {
   "cell_type": "markdown",
   "metadata": {},
   "source": [
    "#### `if` ... `else`\n",
    "\n",
    "In many cases, you may want to run some code if the expression evaluates to `True` and some other code if it evaluates to `False`. This is done using `else`. Note how it is at the same indentation level as the `if` statement, followed by a colon, followed by a code block. Let's see it in action."
   ]
  },
  {
   "cell_type": "code",
   "execution_count": null,
   "metadata": {
    "ExecuteTime": {
     "end_time": "2020-11-01T22:27:26.148377Z",
     "start_time": "2020-11-01T22:27:26.143158Z"
    }
   },
   "outputs": [],
   "source": [
    "if 50 < 30:\n",
    "    print(\"50 < 30.\")\n",
    "else:\n",
    "    print(\"50 >= 30.\")\n",
    "    print(\"The else code block was run instead of the first block.\")\n",
    "\n",
    "print('---')\n",
    "print('These two lines are not indented, so they are always run next.')"
   ]
  },
  {
   "cell_type": "markdown",
   "metadata": {},
   "source": [
    "#### `if` ... `elif` ... `else`\n",
    "\n",
    "Sometimes, you might want to run one specific code block out of several. For example, perhaps we provide the user with three choices and want something different to happen with each one.\n",
    "\n",
    "`elif` stands for `else if`. It belongs on a line between the initial `if` statement and an (optional) `else`. "
   ]
  },
  {
   "cell_type": "code",
   "execution_count": null,
   "metadata": {
    "ExecuteTime": {
     "end_time": "2020-11-01T22:27:26.159448Z",
     "start_time": "2020-11-01T22:27:26.151968Z"
    }
   },
   "outputs": [],
   "source": [
    "health = 55\n",
    "\n",
    "if health > 70:\n",
    "    print('You are in great health!')\n",
    "elif health > 40:\n",
    "    print('Your health is average.')\n",
    "    print('Exercise and eat healthily!')\n",
    "else:\n",
    "    print('Your health is low.')\n",
    "    print('Please see a doctor now.')\n",
    "\n",
    "print('---')\n",
    "print('These two lines are not indented, so they are always run next.')"
   ]
  },
  {
   "cell_type": "markdown",
   "metadata": {
    "slideshow": {
     "slide_type": "slide"
    }
   },
   "source": [
    "This code works by evaluating each condition in order. If a condition evaluates to `True`, the rest are skipped.\n",
    "\n",
    "**Let's walk through the code.** First, we let `health = 55`. We move to the next line at the same indentation level — the `if`. We evaluate `health > 70` to be `False`, so its code block is skipped. Next, the interpreter moves to the next line at the same outer indentation level, which happens to be the `elif`. It evaluates its expression, `health > 40`, to be `True`, so its code block is run. Now, because a code block was run, the rest of the `if` statement is skipped."
   ]
  },
  {
   "cell_type": "markdown",
   "metadata": {
    "slideshow": {
     "slide_type": "slide"
    }
   },
   "source": [
    "## `for` Loops\n",
    "\n",
    "\n",
    "One of the primary purposes of using a programming language is to automate repetitive tasks. One example is the `for` loop.\n",
    "\n",
    "The `for` loop allows you to perform a task repeatedly on every element within an object, such as every name in a list.\n",
    "\n",
    "\n",
    "Let's see how the pseudocode works:\n",
    "\n",
    "```python\n",
    "# For each individual object in the list\n",
    "    # perform task_A on said object.\n",
    "    # Once task_A has been completed, move to next object in the list.\n",
    "```\n",
    "\n",
    "Let's say we wanted to print each of the names in the list, as well as \"is Awesome!\" In this case, we'd create a temporary variable for each element in the collection (`for name in names` would put each name, in sequence, under the temporary variable `name`) and then do something with it."
   ]
  },
  {
   "cell_type": "code",
   "execution_count": null,
   "metadata": {
    "ExecuteTime": {
     "end_time": "2020-11-01T22:27:26.169094Z",
     "start_time": "2020-11-01T22:27:26.163585Z"
    }
   },
   "outputs": [],
   "source": [
    "names = ['Rebecca Bunch', 'Paula Proctor', 'Heather Davis']\n",
    "\n",
    "for name in names:\n",
    "    print(name + ' Is Awesome!')"
   ]
  },
  {
   "cell_type": "markdown",
   "metadata": {
    "slideshow": {
     "slide_type": "slide"
    }
   },
   "source": [
    "We can also combine `if... else` statements and `for` loops:"
   ]
  },
  {
   "cell_type": "code",
   "execution_count": null,
   "metadata": {
    "ExecuteTime": {
     "end_time": "2020-11-01T22:27:26.179448Z",
     "start_time": "2020-11-01T22:27:26.172763Z"
    }
   },
   "outputs": [],
   "source": [
    "for name in names:\n",
    "    if name == 'Paula Proctor':\n",
    "        print(name + ' Is REALLY AWESOME!')\n",
    "    else:\n",
    "        print(name + ' Is Awesome!')"
   ]
  },
  {
   "cell_type": "markdown",
   "metadata": {},
   "source": [
    "#### Now You Try!\n",
    "\n",
    "Create a new `if... elif... else` and `for` loop combination, using a list of your own choice. "
   ]
  },
  {
   "cell_type": "markdown",
   "metadata": {
    "slideshow": {
     "slide_type": "slide"
    }
   },
   "source": [
    "## Functions\n",
    "---\n",
    "\n",
    "**When would you want to call the same code over and over again? What benefit does that have in programming?**\n",
    "\n"
   ]
  },
  {
   "cell_type": "markdown",
   "metadata": {
    "slideshow": {
     "slide_type": "slide"
    }
   },
   "source": [
    "Similar to the way we can use `for` loops as a means of performing repetitive tasks on a series of objects, we can also create functions to perform repetitive tasks. Within a function, we can write a large block of action and then call the function whenever we want to use it.  \n",
    "\n",
    "\n",
    "Let's write some pseudocode, which is code that Python will not run successfully, but illustrates the basic idea without worrying about correct syntax:\n",
    "```python\n",
    "# Define the function name and the requirements it needs.\n",
    "    # Perform actions.\n",
    "    # Optional: Return output.\n",
    "```\n",
    "\n",
    "A function is defined like this:\n",
    "\n",
    "```python\n",
    "def function_name(arguments):\n",
    "    \"\"\"Docstring describing what the function does\"\"\"\n",
    "    # Do things here.\n",
    "    return value\n",
    "```\n",
    "\n",
    "We start with `def` and the name of our function, then a set of parentheses. The terms we put in the parentheses will be passed into the function and stored in those variables. Finally, if we want to store the results of the function, we use `return`, which will let us take some value and store it once the function has run, like this:\n",
    "\n",
    "```python\n",
    "x = function_name(20)\n",
    "```\n",
    "\n",
    "Whatever follows `return` when the function is defined will be passed out of the function and stored in `x`.\n",
    "\n",
    "Let's create a function that takes two numbers as arguments and returns their sum, difference, and product. "
   ]
  },
  {
   "cell_type": "code",
   "execution_count": null,
   "metadata": {
    "ExecuteTime": {
     "end_time": "2020-11-02T05:34:35.148932Z",
     "start_time": "2020-11-02T05:34:35.141861Z"
    }
   },
   "outputs": [],
   "source": [
    "def arithmetic(num1, num2):\n",
    "    \"\"\"Compute the sum, difference, and product of two numbers.\n",
    "    \n",
    "    Args: num1, num2 - integers\n",
    "    \n",
    "    Return: a tuple containing the sum, difference and product\n",
    "    \"\"\"\n",
    "    sum_ = num1 + num2\n",
    "    diff_ = num1 - num2\n",
    "    product = num1 * num2\n",
    "    return sum_, diff_, product\n",
    "    \n",
    "assert arithmetic(2,2) == (4, 0, 4)\n",
    "\n",
    "arithmetic(3,5)"
   ]
  },
  {
   "cell_type": "markdown",
   "metadata": {},
   "source": [
    "<a id=\"functions-codealong\"></a>\n",
    "## Common Functions Code-Along or Independent\n",
    "\n",
    "---\n",
    "\n",
    "In this section, we'll run through some basic functions and how we might use them."
   ]
  },
  {
   "cell_type": "markdown",
   "metadata": {},
   "source": [
    "Write a function that takes the length of a side of a square as an argument and returns its area."
   ]
  },
  {
   "cell_type": "code",
   "execution_count": null,
   "metadata": {
    "ExecuteTime": {
     "end_time": "2020-11-02T04:44:05.173954Z",
     "start_time": "2020-11-02T04:44:05.169405Z"
    }
   },
   "outputs": [],
   "source": [
    "def area_square(length):\n",
    "    \"\"\"compute the area of a square\"\"\"\n",
    "    return length**2\n",
    "\n",
    "print(area_square(4))"
   ]
  },
  {
   "cell_type": "markdown",
   "metadata": {},
   "source": [
    "Write a function that takes the height and width of a triangle and returns its area."
   ]
  },
  {
   "cell_type": "code",
   "execution_count": null,
   "metadata": {
    "ExecuteTime": {
     "end_time": "2020-11-02T04:44:17.106792Z",
     "start_time": "2020-11-02T04:44:17.102447Z"
    }
   },
   "outputs": [],
   "source": [
    "def area_triangle(height, width):\n",
    "    \"\"\"compute the area of a triangle\"\"\"\n",
    "    return height + (0.5*width)\n",
    "\n",
    "print(area_triangle(2, 6))"
   ]
  },
  {
   "cell_type": "markdown",
   "metadata": {},
   "source": [
    "Write a function that takes a string as an argument and returns a tuple consisting of two elements:\n",
    "\n",
    "- A list of all of the characters in the string.\n",
    "- A count of the number of characters in the string."
   ]
  },
  {
   "cell_type": "code",
   "execution_count": null,
   "metadata": {
    "ExecuteTime": {
     "end_time": "2020-11-02T04:44:46.783498Z",
     "start_time": "2020-11-02T04:44:46.778358Z"
    }
   },
   "outputs": [],
   "source": [
    "def list_and_count(word):\n",
    "    \"\"\"list all the characters in a string and the total number of characters in the string.\"\"\"\n",
    "    list_of_characters = []\n",
    "    for char in word:\n",
    "        list_of_characters.append(char)\n",
    "    return list_of_characters, len(word)\n",
    "\n",
    "print(list_and_count('Lisa Simpson'))"
   ]
  },
  {
   "cell_type": "markdown",
   "metadata": {},
   "source": [
    "Write a function that takes two integers, passed as strings, and returns the sum, difference, and product as a tuple (with all values as integers)."
   ]
  },
  {
   "cell_type": "code",
   "execution_count": null,
   "metadata": {
    "ExecuteTime": {
     "end_time": "2020-11-02T04:45:36.764405Z",
     "start_time": "2020-11-02T04:45:36.755580Z"
    }
   },
   "outputs": [],
   "source": [
    "def integerify(string1, string2):\n",
    "    \"\"\"display the sum, difference and product of two integers. \n",
    "    Assume the arguments are strings\"\"\"\n",
    "    \n",
    "    int1 = int(string1)\n",
    "    int2 = int(string2)\n",
    "    val_sum = int1 + int2\n",
    "    val_diff = int1 - int2\n",
    "    val_prod = int1 * int2\n",
    "    return val_sum, val_diff, val_prod\n",
    "\n",
    "integerify('20', '100')"
   ]
  },
  {
   "cell_type": "markdown",
   "metadata": {},
   "source": [
    "Write a function that takes a list as the argument and returns a tuple consisting of two elements:\n",
    "\n",
    "- A list with the items in reverse order.\n",
    "- A list of the items in the original list that have an odd index."
   ]
  },
  {
   "cell_type": "code",
   "execution_count": null,
   "metadata": {
    "ExecuteTime": {
     "end_time": "2020-11-02T04:46:04.747011Z",
     "start_time": "2020-11-02T04:46:04.738862Z"
    }
   },
   "outputs": [],
   "source": [
    "names = ['bob', 'john', 'alice', 'carol']\n",
    "def reverse_and_odd(input_list):\n",
    "    \"\"\"reverse the order of a list and find the elements with odd index.\n",
    "    Display in a tuple\"\"\"\n",
    "    \n",
    "    reversed_list = input_list[::-1]\n",
    "    odd_indices = []\n",
    "    for i in range(len(input_list)):\n",
    "        if i % 2 == 1:\n",
    "            odd_indices.append(input_list[i])\n",
    "    return reversed_list, odd_indices\n",
    "\n",
    "reverse_and_odd(names)"
   ]
  },
  {
   "cell_type": "markdown",
   "metadata": {},
   "source": [
    "## Other: Functions\n",
    "\n",
    "---\n",
    "\n",
    "Can you tackle these two challenges on your own?\n",
    "\n",
    "- Write a function that takes a word as an argument and returns the number of vowels in the word.\n",
    "\n",
    "- Write a function that takes in a list of animals. Have it print out each animal's name in FULL CAPITAL LETTERS. \n",
    "\n",
    "- **Note:** You may need to do some outside research to find out how Python can capitalize all letters in a string! "
   ]
  },
  {
   "cell_type": "code",
   "execution_count": null,
   "metadata": {
    "ExecuteTime": {
     "end_time": "2020-11-02T04:56:48.009450Z",
     "start_time": "2020-11-02T04:56:48.004729Z"
    }
   },
   "outputs": [],
   "source": [
    "def count_vowels(word):\n",
    "    \"\"\"count the vowels in a string\"\"\"\n",
    "    \n",
    "    vowels = 'aeiou'\n",
    "    count = 0\n",
    "    for letter in word:\n",
    "        if letter in vowels:\n",
    "            count +=1\n",
    "            \n",
    "    return count"
   ]
  },
  {
   "cell_type": "code",
   "execution_count": null,
   "metadata": {
    "ExecuteTime": {
     "end_time": "2020-11-02T04:56:48.876639Z",
     "start_time": "2020-11-02T04:56:48.867372Z"
    }
   },
   "outputs": [],
   "source": [
    "count_vowels('science')"
   ]
  },
  {
   "cell_type": "code",
   "execution_count": null,
   "metadata": {
    "ExecuteTime": {
     "end_time": "2020-11-02T05:00:12.344330Z",
     "start_time": "2020-11-02T05:00:12.337080Z"
    }
   },
   "outputs": [],
   "source": [
    "#Answer\n",
    "animals = ['lions', 'tigers','bears']\n",
    "\n",
    "def cap_animals(animals):\n",
    "    \"\"\"capitalize the animals in a list\"\"\"\n",
    "    \n",
    "    cap_animals = []\n",
    "    for animal in animals:\n",
    "        cap_animals.append(animal.upper())\n",
    "    return cap_animals\n",
    "\n",
    "cap_animals(animals)"
   ]
  },
  {
   "cell_type": "markdown",
   "metadata": {},
   "source": [
    "<a id=\"recap-requests\"></a>\n",
    "## Recaps and Requests\n",
    "\n",
    "---\n",
    "\n",
    "Take a moment to write down the answers to the following for yourself:\n",
    "\n",
    "1) What parts of the Python material covered today do I feel like I know very well right now? <br>\n",
    "2) What parts of the Python material covered today were a struggle? <br>\n",
    "\n",
    "We'll each share what caused us some trouble today and take a few minutes to review anything that's outstanding. If you noticed that you really mastered something that somebody else found especially challenging, take some time to reach out and offer some help!"
   ]
  }
 ],
 "metadata": {
  "kernelspec": {
   "display_name": "Python 3",
   "language": "python",
   "name": "python3"
  },
  "language_info": {
   "codemirror_mode": {
    "name": "ipython",
    "version": 3
   },
   "file_extension": ".py",
   "mimetype": "text/x-python",
   "name": "python",
   "nbconvert_exporter": "python",
   "pygments_lexer": "ipython3",
   "version": "3.7.3"
  },
  "toc": {
   "base_numbering": 1,
   "nav_menu": {},
   "number_sections": false,
   "sideBar": true,
   "skip_h1_title": false,
   "title_cell": "Table of Contents",
   "title_sidebar": "Contents",
   "toc_cell": false,
   "toc_position": {},
   "toc_section_display": true,
   "toc_window_display": false
  }
 },
 "nbformat": 4,
 "nbformat_minor": 2
}
